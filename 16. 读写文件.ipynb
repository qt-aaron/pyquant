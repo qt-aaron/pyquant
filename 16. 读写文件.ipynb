{
 "cells": [
  {
   "cell_type": "markdown",
   "metadata": {},
   "source": [
    "# 读和写文件\n",
    "open() 将会返回一个 file 对象，基本语法格式如下:\n",
    "> open(filename, mode)\n",
    "* filename：包含了你要访问的文件名称的字符串值。\n",
    "* mode：决定了打开文件的模式：只读，写入，追加等。所有可取值见如下的完全列表。这个参数是非强制的，默认文件访问模式为只读(r)。"
   ]
  },
  {
   "cell_type": "markdown",
   "metadata": {},
   "source": [
    "# 不同模式打开文件的完全列表：\n",
    "<img src=\"attachment:image.png\" align=left>"
   ]
  },
  {
   "cell_type": "markdown",
   "metadata": {},
   "source": [
    "# 下图很好的总结了这几种模式：\n",
    "<img src='attachment:image.png' align=left>"
   ]
  },
  {
   "cell_type": "markdown",
   "metadata": {},
   "source": [
    "## pickle 模块"
   ]
  },
  {
   "cell_type": "code",
   "execution_count": 11,
   "metadata": {},
   "outputs": [
    {
     "name": "stdout",
     "output_type": "stream",
     "text": [
      "{'a': [1, 2.0, 3, (4+6j)], 'b': ('string', 'Unicode string'), 'c': None}\n",
      "[1, 2, 3, <Recursion on list with id=2828092144640>]\n"
     ]
    }
   ],
   "source": [
    "#!/usr/bin/python3\n",
    "import pickle\n",
    "import pprint\n",
    "\n",
    "# 使用pickle模块将数据对象保存到文件\n",
    "data1 = {'a': [1, 2.0, 3, 4+6j],\n",
    "         'b': ('string', u'Unicode string'),\n",
    "         'c': None}\n",
    "\n",
    "selfref_list = [1, 2, 3]\n",
    "selfref_list.append(selfref_list)\n",
    "\n",
    "output = open('data.pkl', 'wb')\n",
    "\n",
    "# Pickle dictionary using protocol 0.\n",
    "pickle.dump(data1, output)\n",
    "\n",
    "# Pickle the list using the highest protocol available.\n",
    "pickle.dump(selfref_list, output, -1)\n",
    "\n",
    "output.close()\n",
    "\n",
    "\n",
    "#使用pickle模块从文件中重构python对象\n",
    "pkl_file = open('data.pkl', 'rb')\n",
    "\n",
    "data1 = pickle.load(pkl_file)\n",
    "pprint.pprint(data1)\n",
    "\n",
    "data2 = pickle.load(pkl_file)\n",
    "pprint.pprint(data2)\n",
    "\n",
    "pkl_file.close()"
   ]
  }
 ],
 "metadata": {
  "kernelspec": {
   "display_name": "Python 3",
   "language": "python",
   "name": "python3"
  },
  "language_info": {
   "codemirror_mode": {
    "name": "ipython",
    "version": 3
   },
   "file_extension": ".py",
   "mimetype": "text/x-python",
   "name": "python",
   "nbconvert_exporter": "python",
   "pygments_lexer": "ipython3",
   "version": "3.8.3"
  }
 },
 "nbformat": 4,
 "nbformat_minor": 4
}
